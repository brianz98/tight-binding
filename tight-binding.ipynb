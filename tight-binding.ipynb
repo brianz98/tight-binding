{
 "cells": [
  {
   "cell_type": "code",
   "execution_count": 8,
   "id": "8f08ac97",
   "metadata": {},
   "outputs": [],
   "source": [
    "import numpy as np\n",
    "import matplotlib.pyplot as plt\n",
    "import scipy"
   ]
  },
  {
   "cell_type": "code",
   "execution_count": 2,
   "id": "93e5c59d",
   "metadata": {},
   "outputs": [],
   "source": [
    "def atomic_read_in(datfile):\n",
    "    with open(datfile, 'r') as f:\n",
    "        for line in f:\n",
    "            line = line.strip()\n",
    "            # dim i j R H_ij, space separated\n",
    "            if line.startswith('#'):\n",
    "                dim = int(line.split(' ')[1])\n",
    "                H_ij0 = np.zeros((dim,dim))\n",
    "                H_ij1 = np.zeros((dim,dim))\n",
    "                H_ijn1 = np.zeros((dim,dim))\n",
    "                H_ij = {0: H_ij0, 1: H_ij1, -1: H_ijn1}\n",
    "            else:\n",
    "                ele = line.split(' ')\n",
    "                H_ij[int(ele[2])][int(ele[0]),int(ele[1])] = float(ele[3])\n",
    "    return H_ij     "
   ]
  },
  {
   "cell_type": "code",
   "execution_count": 3,
   "id": "e06f923b",
   "metadata": {},
   "outputs": [],
   "source": [
    "def atomic_to_reciprocal(H_ij,k):\n",
    "    H_k = np.zeros_like(H_ij[0],dtype='complex128') # definitely a key\n",
    "    for key in H_ij.keys():\n",
    "        key = int(key)\n",
    "        H_k+=np.exp(k*key*1j)*H_ij[key]\n",
    "    return H_k"
   ]
  },
  {
   "cell_type": "code",
   "execution_count": 4,
   "id": "a23b997c",
   "metadata": {
    "scrolled": true
   },
   "outputs": [],
   "source": [
    "def berry_discrete(H_ij,k_dens):\n",
    "    k_points = np.linspace(-np.pi,np.pi,k_dens)\n",
    "    u0 = np.linalg.eigh(atomic_to_reciprocal(H_ij,k_points[0]))[1][:,0]\n",
    "    uold = u0\n",
    "    berry = 0\n",
    "    for k in k_points[1:]:\n",
    "        unew = np.linalg.eigh(atomic_to_reciprocal(H_ij,k))[1][:,0]\n",
    "        berry += -np.imag(np.log(np.vdot(uold,unew)))\n",
    "        uold = unew\n",
    "    berry += -np.imag(np.vdot(uold,u0))\n",
    "    return (berry%(2*np.pi))/np.pi"
   ]
  },
  {
   "cell_type": "code",
   "execution_count": 5,
   "id": "a7294872",
   "metadata": {},
   "outputs": [],
   "source": [
    "def plot(k_dens, H_ij):\n",
    "    k_points = np.linspace(-np.pi,np.pi,k_dens)\n",
    "    bandstr = []\n",
    "    for k in k_points:\n",
    "        bandstr.append(np.linalg.eigvalsh(atomic_to_reciprocal(H_ij,k)))\n",
    "    bandstr = np.array(bandstr)\n",
    "    plt.plot(k_points,bandstr[:,0])\n",
    "    plt.plot(k_points,bandstr[:,1])"
   ]
  },
  {
   "cell_type": "code",
   "execution_count": 73,
   "id": "1e506cc1",
   "metadata": {},
   "outputs": [],
   "source": [
    "H_ij_top = atomic_read_in('ssh_top.dat')\n",
    "H_ij_trivial = atomic_read_in('ssh_trivial.dat')\n",
    "H_ij_both1 = atomic_read_in('ssh_both1.dat')"
   ]
  },
  {
   "cell_type": "code",
   "execution_count": 70,
   "id": "85b3c2c5",
   "metadata": {},
   "outputs": [
    {
     "data": {
      "text/plain": [
       "{0: array([[0., 1.],\n",
       "        [1., 0.]]),\n",
       " 1: array([[0. , 0. ],\n",
       "        [0.6, 0. ]]),\n",
       " -1: array([[0. , 0.6],\n",
       "        [0. , 0. ]])}"
      ]
     },
     "execution_count": 70,
     "metadata": {},
     "output_type": "execute_result"
    }
   ],
   "source": [
    "H_ij_trivial"
   ]
  },
  {
   "cell_type": "code",
   "execution_count": 74,
   "id": "db47ac7d",
   "metadata": {},
   "outputs": [
    {
     "data": {
      "image/png": "[encoded data removed]",
      "text/plain": [
       "<Figure size 432x288 with 1 Axes>"
      ]
     },
     "metadata": {
      "needs_background": "light"
     },
     "output_type": "display_data"
    }
   ],
   "source": [
    "plot(1000, H_ij_both1)"
   ]
  },
  {
   "cell_type": "code",
   "execution_count": 95,
   "id": "2368917c",
   "metadata": {},
   "outputs": [
    {
     "data": {
      "text/plain": [
       "3.1415926535897953"
      ]
     },
     "execution_count": 95,
     "metadata": {},
     "output_type": "execute_result"
    }
   ],
   "source": [
    "berry_discrete(H_ij_top,1000)"
   ]
  },
  {
   "cell_type": "code",
   "execution_count": 96,
   "id": "353738f7",
   "metadata": {},
   "outputs": [],
   "source": [
    "def atom_hamil_iter(v, w):\n",
    "    h0 = np.array([[0,v],[v,0]])\n",
    "    h1 = np.array([[0,0],[w,0]])\n",
    "    hn1 = np.array([[0,w],[0,0]])\n",
    "    return {0:h0,1:h1,-1:hn1}"
   ]
  },
  {
   "cell_type": "code",
   "execution_count": 121,
   "id": "5e20b28f",
   "metadata": {},
   "outputs": [],
   "source": [
    "size = 20\n",
    "v_range = np.linspace(0,1,size)\n",
    "w_range = np.linspace(0,1,size)\n",
    "berry = np.zeros((size,size))\n",
    "for iv, v in enumerate(v_range):\n",
    "    for iw, w in enumerate(w_range):\n",
    "        hamil = atom_hamil_iter(v,w)\n",
    "        berry[iv,iw] = berry_discrete(hamil,500)"
   ]
  },
  {
   "cell_type": "code",
   "execution_count": 132,
   "id": "9ba2a54b",
   "metadata": {},
   "outputs": [
    {
     "data": {
      "text/plain": [
       "<matplotlib.image.AxesImage at 0x7f56bf6f7a00>"
      ]
     },
     "execution_count": 132,
     "metadata": {},
     "output_type": "execute_result"
    },
    {
     "data": {
      "image/png": "[encoded data removed]",
      "text/plain": [
       "<Figure size 432x288 with 1 Axes>"
      ]
     },
     "metadata": {
      "needs_background": "light"
     },
     "output_type": "display_data"
    }
   ],
   "source": [
    "plt.imshow(np.swapaxes(berry_mod2,0,1),origin='lower')\n",
    "plt."
   ]
  },
  {
   "cell_type": "code",
   "execution_count": 131,
   "id": "8a406e22",
   "metadata": {},
   "outputs": [
    {
     "data": {
      "text/plain": [
       "array([0., 1., 1., 1., 1., 1., 1., 1., 1., 1., 1., 1., 1., 1., 1., 1., 1.,\n",
       "       1., 1., 1.])"
      ]
     },
     "execution_count": 131,
     "metadata": {},
     "output_type": "execute_result"
    }
   ],
   "source": [
    "berry_mod2 = berry%1.98\n",
    "berry_mod2[0,:]"
   ]
  },
  {
   "cell_type": "markdown",
   "id": "397f35a6",
   "metadata": {},
   "source": [
    "To do a supercell calculation to show edge-bulk correspondence, the above code is not really suitable. We just do direct diagonalisation in real space below."
   ]
  },
  {
   "cell_type": "code",
   "execution_count": 35,
   "id": "6b473075",
   "metadata": {},
   "outputs": [],
   "source": [
    "def edge_hamil(v, w, N):\n",
    "    \"\"\"\n",
    "    v: intracell hopping\n",
    "    w: intercell hopping\n",
    "    N: number of cells (2 sites, 1 electron each cell)\n",
    "    \"\"\"\n",
    "    offdiag = []\n",
    "    for i in range(2*N-1):\n",
    "        if i%2 == 0:\n",
    "            offdiag.append(v)\n",
    "        else:\n",
    "            offdiag.append(w)\n",
    "    hamil = (np.diag(offdiag,-1) + np.diag(offdiag,1))\n",
    "    return np.linalg.eigh(hamil)"
   ]
  },
  {
   "cell_type": "code",
   "execution_count": 65,
   "id": "deb924d2",
   "metadata": {},
   "outputs": [
    {
     "data": {
      "text/plain": [
       "<BarContainer object of 60 artists>"
      ]
     },
     "execution_count": 65,
     "metadata": {},
     "output_type": "execute_result"
    },
    {
     "data": {
      "image/png": "[encoded data removed]",
      "text/plain": [
       "<Figure size 432x288 with 1 Axes>"
      ]
     },
     "metadata": {
      "needs_background": "light"
     },
     "output_type": "display_data"
    }
   ],
   "source": [
    "N = 30\n",
    "edgestate = edge_hamil(0.3,1,N)[1][N-1]\n",
    "plt.bar(list(range(2*N)),edgestate)"
   ]
  },
  {
   "cell_type": "code",
   "execution_count": null,
   "id": "f82409f6",
   "metadata": {},
   "outputs": [],
   "source": []
  }
 ],
 "metadata": {
  "kernelspec": {
   "display_name": "Python 3",
   "language": "python",
   "name": "python3"
  },
  "language_info": {
   "codemirror_mode": {
    "name": "ipython",
    "version": 3
   },
   "file_extension": ".py",
   "mimetype": "text/x-python",
   "name": "python",
   "nbconvert_exporter": "python",
   "pygments_lexer": "ipython3",
   "version": "3.8.8"
  }
 },
 "nbformat": 4,
 "nbformat_minor": 5
}
